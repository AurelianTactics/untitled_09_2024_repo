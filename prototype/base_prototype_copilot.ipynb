{
 "cells": [
  {
   "cell_type": "code",
   "execution_count": null,
   "metadata": {},
   "outputs": [],
   "source": [
    "'''\n",
    "See how Copilot does with a simple langgraph app\n",
    "\n",
    "Make an app that allows a user to ask an LLM the initial and annual cost of a car\n",
    "- User with interact with the LLM through a simple Gradio interface\n",
    "- The back end of the app will be a langgraph stack that asks an LLM to answer the user's question\n",
    "\n",
    "'''"
   ]
  },
  {
   "cell_type": "code",
   "execution_count": 3,
   "metadata": {},
   "outputs": [
    {
     "name": "stderr",
     "output_type": "stream",
     "text": [
      "c:\\Users\\james\\github_repos\\untitled_09_2024_repo\\sep2024\\lib\\site-packages\\tqdm\\auto.py:21: TqdmWarning: IProgress not found. Please update jupyter and ipywidgets. See https://ipywidgets.readthedocs.io/en/stable/user_install.html\n",
      "  from .autonotebook import tqdm as notebook_tqdm\n"
     ]
    },
    {
     "ename": "ImportError",
     "evalue": "cannot import name 'LangGraph' from 'langgraph' (unknown location)",
     "output_type": "error",
     "traceback": [
      "\u001b[1;31m---------------------------------------------------------------------------\u001b[0m",
      "\u001b[1;31mImportError\u001b[0m                               Traceback (most recent call last)",
      "Cell \u001b[1;32mIn[3], line 2\u001b[0m\n\u001b[0;32m      1\u001b[0m \u001b[38;5;28;01mimport\u001b[39;00m \u001b[38;5;21;01mgradio\u001b[39;00m \u001b[38;5;28;01mas\u001b[39;00m \u001b[38;5;21;01mgr\u001b[39;00m\n\u001b[1;32m----> 2\u001b[0m \u001b[38;5;28;01mfrom\u001b[39;00m \u001b[38;5;21;01mlanggraph\u001b[39;00m \u001b[38;5;28;01mimport\u001b[39;00m LangGraph\n\u001b[0;32m      4\u001b[0m \u001b[38;5;66;03m# Initialize LangGraph\u001b[39;00m\n\u001b[0;32m      5\u001b[0m lg \u001b[38;5;241m=\u001b[39m LangGraph()\n",
      "\u001b[1;31mImportError\u001b[0m: cannot import name 'LangGraph' from 'langgraph' (unknown location)"
     ]
    }
   ],
   "source": [
    "import gradio as gr\n",
    "from langgraph import LangGraph\n",
    "\n",
    "# Initialize LangGraph\n",
    "lg = LangGraph()\n",
    "\n",
    "def get_car_costs(car_model):\n",
    "    # Define the query for the LLM\n",
    "    query = f\"What is the initial and annual cost of a {car_model}?\"\n",
    "    \n",
    "    # Get the response from the LLM\n",
    "    response = lg.ask(query)\n",
    "    \n",
    "    return response\n",
    "\n",
    "# Create the Gradio interface\n",
    "iface = gr.Interface(\n",
    "    fn=get_car_costs,\n",
    "    inputs=\"text\",\n",
    "    outputs=\"text\",\n",
    "    title=\"Car Cost Estimator\",\n",
    "    description=\"Ask the LLM about the initial and annual cost of a car.\"\n",
    ")\n",
    "\n",
    "# Launch the app\n",
    "if __name__ == \"__main__\":\n",
    "    iface.launch()"
   ]
  },
  {
   "cell_type": "code",
   "execution_count": null,
   "metadata": {},
   "outputs": [],
   "source": [
    "python app.py"
   ]
  }
 ],
 "metadata": {
  "kernelspec": {
   "display_name": "sep2024",
   "language": "python",
   "name": "python3"
  },
  "language_info": {
   "codemirror_mode": {
    "name": "ipython",
    "version": 3
   },
   "file_extension": ".py",
   "mimetype": "text/x-python",
   "name": "python",
   "nbconvert_exporter": "python",
   "pygments_lexer": "ipython3",
   "version": "3.9.9"
  }
 },
 "nbformat": 4,
 "nbformat_minor": 2
}
