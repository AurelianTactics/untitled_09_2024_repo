{
 "cells": [
  {
   "cell_type": "code",
   "execution_count": null,
   "metadata": {},
   "outputs": [],
   "source": []
  },
  {
   "cell_type": "markdown",
   "metadata": {},
   "source": [
    "### Testing tavily\n",
    "* just  using base langchain tool, not the tavily wrappers or other methods\n",
    "    * that usage in the backlog\n",
    "* trying domain argument\n",
    "* trying context vs. search vs. question answering\n",
    "* trying federal incentives\n",
    "* trying state incentives\n",
    "* trying used car shopping\n",
    "* trying new car shopping\n",
    "* https://docs.tavily.com/docs/python-sdk/tavily-search/getting-started\n",
    "* https://python.langchain.com/api_reference/community/tools/langchain_community.tools.tavily_search.tool.TavilySearchResults.html\n",
    "* https://python.langchain.com/api_reference/community/utilities/langchain_community.utilities.tavily_search.TavilySearchAPIWrapper.html#langchain_community.utilities.tavily_search.TavilySearchAPIWrapper\n",
    "* https://python.langchain.com/api_reference/community/tools/langchain_community.tools.tavily_search.tool.TavilyAnswer.html"
   ]
  },
  {
   "cell_type": "code",
   "execution_count": null,
   "metadata": {},
   "outputs": [],
   "source": [
    "'''\n",
    "Notes\n",
    "so issue is tavily is just an answer or a result and some light context. doesn't have enough detail\n",
    "so maybe use it to RAG and enhance the LLM\n",
    "or maybe use some static pages\n",
    "also tavily seems to be wrong a lot based on the simple French open query\n",
    "\n",
    "so could use tavily to get URLs then RAG the URLS like here:\n",
    "    https://langchain-ai.github.io/langgraph/tutorials/rag/langgraph_adaptive_rag/\n",
    "\n",
    "could use a car price API to get the new and used prices\n",
    "\n",
    "\n",
    "'''"
   ]
  },
  {
   "cell_type": "code",
   "execution_count": null,
   "metadata": {},
   "outputs": [],
   "source": []
  },
  {
   "cell_type": "markdown",
   "metadata": {},
   "source": [
    "### Constants and Imports"
   ]
  },
  {
   "cell_type": "code",
   "execution_count": 1,
   "metadata": {},
   "outputs": [],
   "source": [
    "from langchain_community.tools.tavily_search import TavilySearchResults\n",
    "\n",
    "import getpass\n",
    "import os\n",
    "\n",
    "from langchain_core.tools import tool"
   ]
  },
  {
   "cell_type": "code",
   "execution_count": 2,
   "metadata": {},
   "outputs": [],
   "source": [
    "def _get_pass(var: str):\n",
    "    if var not in os.environ:\n",
    "        os.environ[var] = getpass.getpass(f\"{var}: \")\n",
    "\n",
    "# _get_pass(\"OPENAI_API_KEY\")\n",
    "# _get_pass(\"LANGSMITH_API_KEY\")\n",
    "_get_pass(\"TAVILY_API_KEY\")\n",
    "# os.environ[\"LANGCHAIN_TRACING_V2\"] = \"true\"\n",
    "# os.environ[\"LANGCHAIN_PROJECT\"] = \"EV Prototype LLMCompiler v0.01\"\n"
   ]
  },
  {
   "cell_type": "code",
   "execution_count": 3,
   "metadata": {},
   "outputs": [],
   "source": [
    "tool = TavilySearchResults(\n",
    "    max_results=5,\n",
    "    #include_answer=True,\n",
    "    #include_raw_content=True,\n",
    "    #include_images=True,\n",
    "    # search_depth=\"advanced\",\n",
    "    # include_domains = []\n",
    "    # exclude_domains = []\n",
    ")"
   ]
  },
  {
   "cell_type": "code",
   "execution_count": 4,
   "metadata": {},
   "outputs": [
    {
     "data": {
      "text/plain": [
       "[{'url': 'https://www.bbc.com/sport/tennis/articles/c5119n6gl81o',\n",
       "  'content': 'Carlos Alcaraz won the French Open title many thought he was destined to claim by edging a scrappy five-set final against Alexander Zverev. Third seed Alcaraz won 6-3 2-6 5-7 6-1 6-2 on the Roland'},\n",
       " {'url': 'https://en.as.com/other_sports/what-american-tennis-players-ever-won-the-french-open-list-of-us-winners-n/',\n",
       "  'content': \"American players who won the French Open title In the men's category, Andre Agassi was the last competitor who reigned supreme at Roland Garros , lifting the trophy in 1995.\"},\n",
       " {'url': 'https://www.topendsports.com/events/tennis-grand-slam/french-open/winners-men.htm',\n",
       "  'content': \"Here are all the winners of the French Tennis Open men's title since the first tournament in 1925. The recent tournaments have been dominated by Spanish player Rafael Nadal. ... He now has 14 French Open men's singles titles (the last in 2022). See also the Women's Singles Results. Year Winner 2nd Score; 2024: Carlos Alcaraz (Spain) Alexander\"},\n",
       " {'url': 'https://www.npr.org/2023/06/11/1181568367/novak-djokovic-tennis-french-open-grand-slam',\n",
       "  'content': \"Sports\\nNovak Djokovic wins the French Open men's singles, securing his 23rd Grand Slam title\\nBy\\nThe Associated Press\\nSerbia's Novak Djokovic celebrates winning the men's singles final match of the French Open tennis tournament against Norway's Casper Ruud in three sets at the Roland Garros stadium in Paris, Sunday.\\n Thibault Camus/AP\\nhide caption\\nSerbia's Novak Djokovic celebrates winning the men's singles final match of the French Open tennis tournament against Norway's Casper Ruud in three sets, 7-6, (7-1), 6-3, 7-5, at the Roland Garros stadium in Paris on Sunday.\\n Thibault Camus/AP\\nhide caption\\nSerbia's Novak Djokovic celebrates winning the men's singles final match of the French Open tennis tournament against Norway's Casper Ruud in three sets at the Roland Garros stadium in Paris, Sunday.\\n At 20 days past his 36th birthday, Djokovic is the oldest singles champion at Roland Garros, considered the most grueling of the majors because of the lengthy, grinding points required by the red clay, which is slower than the grass or hard courts underfoot elsewhere.\\n Djokovic came close to pulling off that feat in 2021, when he won the Australian Open, French Open and Wimbledon and made it all the way to the title match at the U.S. Open before losing to Daniil Medvedev.\\n\"},\n",
       " {'url': 'https://www.espn.com/tennis/story/_/id/37836655/novak-djokovic-wins-french-open-record-23rd-grand-slam-men-title',\n",
       "  'content': \"Novak Djokovic won his men's record 23rd Grand Slam title Sunday with a 7-6 (1), 6-3, 7-5 victory over Casper Ruud in the French Open final.\"}]"
      ]
     },
     "execution_count": 4,
     "metadata": {},
     "output_type": "execute_result"
    }
   ],
   "source": [
    "tool.invoke({'query': 'who won the last french open'})"
   ]
  },
  {
   "cell_type": "code",
   "execution_count": 5,
   "metadata": {},
   "outputs": [
    {
     "data": {
      "text/plain": [
       "[{'url': 'https://www.espn.com/tennis/story/_/id/40270814/novak-djokovic-wins-record-370th-grand-slam-match-french-open',\n",
       "  'content': 'Novak Djokovic rallied to beat Francisco Cerundolo in five sets at the French Open. It was his 370th Grand Slam match win, breaking a record shared with Roger Federer.'},\n",
       " {'url': 'https://www.espn.com/tennis/story/_/id/40269330/french-open-winners-mens-womens-singles-champions',\n",
       "  'content': \"Rafael Nadal has dominated the French Open since winning his first title at Roland Garros in 2005. Of the Spaniard's 22 career Grand Slam championships,14 have come on the French Open's clay\"},\n",
       " {'url': 'https://www.espn.com/tennis/story/_/id/37836655/novak-djokovic-wins-french-open-record-23rd-grand-slam-men-title',\n",
       "  'content': \"Novak Djokovic won his men's record 23rd Grand Slam title Sunday with a 7-6 (1), 6-3, 7-5 victory over Casper Ruud in the French Open final.\"},\n",
       " {'url': 'https://www.espn.com/tennis/story/_/id/40313210/carlos-alcaraz-outlasts-alexander-zverev-win-french-open',\n",
       "  'content': 'PARIS -- Carlos Alcaraz became the youngest man to win Grand Slam titles on all three surfaces after defeating Alexander Zverev in five sets to capture the French Open on Sunday. The two battled'},\n",
       " {'url': 'https://www.espn.com/tennis/story/_/id/31625383/novak-djokovic-rallies-two-sets-win-french-open-19th-grand-slam-title',\n",
       "  'content': 'This was the first major final for Tsitsipas and the 29th for Djokovic, who also won the French Open in 2016, to go with nine titles at the Australian Open, five at Wimbledon and three at the US Open.'}]"
      ]
     },
     "execution_count": 5,
     "metadata": {},
     "output_type": "execute_result"
    }
   ],
   "source": [
    "tool = TavilySearchResults(\n",
    "    max_results=5,\n",
    "    #include_answer=True,\n",
    "    #include_raw_content=True,\n",
    "    #include_images=True,\n",
    "    # search_depth=\"advanced\",\n",
    "    include_domains = ['https://www.espn.com']\n",
    "    # exclude_domains = []\n",
    ")\n",
    "tool.invoke({'query': 'who won the last french open'})"
   ]
  },
  {
   "cell_type": "code",
   "execution_count": 6,
   "metadata": {},
   "outputs": [
    {
     "data": {
      "text/plain": [
       "[{'url': 'https://www.espn.com/tennis/story/_/id/37836655/novak-djokovic-wins-french-open-record-23rd-grand-slam-men-title',\n",
       "  'content': \"Novak Djokovic won his men's record 23rd Grand Slam title Sunday with a 7-6 (1), 6-3, 7-5 victory over Casper Ruud in the French Open final.\"},\n",
       " {'url': 'https://www.espn.com/tennis/story/_/id/31613798/novak-djokovic-tops-rafael-nadal-reach-french-open-final',\n",
       "  'content': 'Nadal, a 14-time winner of the French Open who turned 35 last week, fell to 105-3 in his career at Roland Garros. His first defeat came against Robin Soderling in 2009; the next against Djokovic'},\n",
       " {'url': 'https://www.espn.com/tennis/story/_/id/40257783/novak-djokovic-rallies-latest-win-french-open-history',\n",
       "  'content': 'Zverev, who won the Italian Open last month, has reached the semifinals at the past three French Opens and avoided his earliest exit at Roland Garros since losing in the first round in 2017.'},\n",
       " {'url': 'https://www.espn.com/tennis/story/_/id/40310466/2024-french-open-mens-final-latest-updates-carlos-alcaraz-alexander-zverev',\n",
       "  'content': \"Alexander Zverev has taken the lead against Carlos Alcaraz in the 2024 French Open men's singles final. Daniel Kopatsch/Getty Images. Alexander Zverev wins third set 7-5 to take 2-1 lead. If golf\"},\n",
       " {'url': 'https://www.espn.com/tennis/story/_/id/34041324/rafael-nadal-wins-14th-french-open-title-22nd-grand-slam',\n",
       "  'content': 'For all that he has accomplished already, Nadal now has done something he never managed previously: He is halfway to a calendar-year Grand Slam thanks to titles at the Australian Open and French Open in the same season.\\n When it ended with a down-the-line backhand from Nadal, he chucked his racket to the red clay he loves so much and covered his face with the taped-up fingers on both of his hands.\\n Given his age, and of more concern, the chronic pain in his left foot that has been an off-and-on problem for years, Nadal has said repeatedly in recent days that he can never be sure whether each match at Court Philippe Chatrier might be his last.\\n \"\\nHe said if the procedure doesn\\'t work, he\\'ll have to decide if he\\'s ready to undergo a major surgery with no guarantee that it will be successful and might require a prolonged recovery time.\\n \"\\nNadal revealed during his media availability after the match that he\\'d been undergoing frequent injections into a nerve throughout the past two weeks at Roland Garros, serving to numb the pain in his foot caused by Mueller-Weiss syndrome.'}]"
      ]
     },
     "execution_count": 6,
     "metadata": {},
     "output_type": "execute_result"
    }
   ],
   "source": [
    "tool = TavilySearchResults(\n",
    "    max_results=5,\n",
    "    include_answer=True,\n",
    "    #include_raw_content=True,\n",
    "    #include_images=True,\n",
    "    # search_depth=\"advanced\",\n",
    "    include_domains = ['https://www.espn.com']\n",
    "    # exclude_domains = []\n",
    ")\n",
    "tool.invoke({'query': 'who won the last french open'})"
   ]
  },
  {
   "cell_type": "code",
   "execution_count": 7,
   "metadata": {},
   "outputs": [
    {
     "data": {
      "text/plain": [
       "['InputType',\n",
       " 'OutputType',\n",
       " '__abstractmethods__',\n",
       " '__annotations__',\n",
       " '__call__',\n",
       " '__class__',\n",
       " '__class_getitem__',\n",
       " '__class_vars__',\n",
       " '__copy__',\n",
       " '__deepcopy__',\n",
       " '__delattr__',\n",
       " '__dict__',\n",
       " '__dir__',\n",
       " '__doc__',\n",
       " '__eq__',\n",
       " '__fields__',\n",
       " '__fields_set__',\n",
       " '__format__',\n",
       " '__ge__',\n",
       " '__get_pydantic_core_schema__',\n",
       " '__get_pydantic_json_schema__',\n",
       " '__getattr__',\n",
       " '__getattribute__',\n",
       " '__getstate__',\n",
       " '__gt__',\n",
       " '__hash__',\n",
       " '__init__',\n",
       " '__init_subclass__',\n",
       " '__iter__',\n",
       " '__le__',\n",
       " '__lt__',\n",
       " '__module__',\n",
       " '__ne__',\n",
       " '__new__',\n",
       " '__or__',\n",
       " '__orig_bases__',\n",
       " '__parameters__',\n",
       " '__pretty__',\n",
       " '__private_attributes__',\n",
       " '__pydantic_complete__',\n",
       " '__pydantic_core_schema__',\n",
       " '__pydantic_custom_init__',\n",
       " '__pydantic_decorators__',\n",
       " '__pydantic_extra__',\n",
       " '__pydantic_fields_set__',\n",
       " '__pydantic_generic_metadata__',\n",
       " '__pydantic_init_subclass__',\n",
       " '__pydantic_parent_namespace__',\n",
       " '__pydantic_post_init__',\n",
       " '__pydantic_private__',\n",
       " '__pydantic_root_model__',\n",
       " '__pydantic_serializer__',\n",
       " '__pydantic_validator__',\n",
       " '__reduce__',\n",
       " '__reduce_ex__',\n",
       " '__repr__',\n",
       " '__repr_args__',\n",
       " '__repr_name__',\n",
       " '__repr_str__',\n",
       " '__rich_repr__',\n",
       " '__ror__',\n",
       " '__setattr__',\n",
       " '__setstate__',\n",
       " '__signature__',\n",
       " '__sizeof__',\n",
       " '__slots__',\n",
       " '__str__',\n",
       " '__subclasshook__',\n",
       " '__weakref__',\n",
       " '_abatch_with_config',\n",
       " '_abc_impl',\n",
       " '_acall_with_config',\n",
       " '_arun',\n",
       " '_atransform_stream_with_config',\n",
       " '_batch_with_config',\n",
       " '_calculate_keys',\n",
       " '_call_with_config',\n",
       " '_check_frozen',\n",
       " '_copy_and_set_values',\n",
       " '_get_value',\n",
       " '_is_protocol',\n",
       " '_iter',\n",
       " '_parse_input',\n",
       " '_run',\n",
       " '_to_args_and_kwargs',\n",
       " '_transform_stream_with_config',\n",
       " 'abatch',\n",
       " 'abatch_as_completed',\n",
       " 'ainvoke',\n",
       " 'api_wrapper',\n",
       " 'args',\n",
       " 'args_schema',\n",
       " 'arun',\n",
       " 'as_tool',\n",
       " 'assign',\n",
       " 'astream',\n",
       " 'astream_events',\n",
       " 'astream_log',\n",
       " 'atransform',\n",
       " 'batch',\n",
       " 'batch_as_completed',\n",
       " 'bind',\n",
       " 'callback_manager',\n",
       " 'callbacks',\n",
       " 'config_schema',\n",
       " 'config_specs',\n",
       " 'configurable_alternatives',\n",
       " 'configurable_fields',\n",
       " 'construct',\n",
       " 'copy',\n",
       " 'description',\n",
       " 'dict',\n",
       " 'exclude_domains',\n",
       " 'from_orm',\n",
       " 'get_config_jsonschema',\n",
       " 'get_graph',\n",
       " 'get_input_jsonschema',\n",
       " 'get_input_schema',\n",
       " 'get_lc_namespace',\n",
       " 'get_name',\n",
       " 'get_output_jsonschema',\n",
       " 'get_output_schema',\n",
       " 'get_prompts',\n",
       " 'handle_tool_error',\n",
       " 'handle_validation_error',\n",
       " 'include_answer',\n",
       " 'include_domains',\n",
       " 'include_images',\n",
       " 'include_raw_content',\n",
       " 'input_schema',\n",
       " 'invoke',\n",
       " 'is_lc_serializable',\n",
       " 'is_single_input',\n",
       " 'json',\n",
       " 'lc_attributes',\n",
       " 'lc_id',\n",
       " 'lc_secrets',\n",
       " 'map',\n",
       " 'max_results',\n",
       " 'metadata',\n",
       " 'model_computed_fields',\n",
       " 'model_config',\n",
       " 'model_construct',\n",
       " 'model_copy',\n",
       " 'model_dump',\n",
       " 'model_dump_json',\n",
       " 'model_extra',\n",
       " 'model_fields',\n",
       " 'model_fields_set',\n",
       " 'model_json_schema',\n",
       " 'model_parametrized_name',\n",
       " 'model_post_init',\n",
       " 'model_rebuild',\n",
       " 'model_validate',\n",
       " 'model_validate_json',\n",
       " 'model_validate_strings',\n",
       " 'name',\n",
       " 'output_schema',\n",
       " 'parse_file',\n",
       " 'parse_obj',\n",
       " 'parse_raw',\n",
       " 'pick',\n",
       " 'pipe',\n",
       " 'raise_deprecation',\n",
       " 'response_format',\n",
       " 'return_direct',\n",
       " 'run',\n",
       " 'schema',\n",
       " 'schema_json',\n",
       " 'search_depth',\n",
       " 'stream',\n",
       " 'tags',\n",
       " 'to_json',\n",
       " 'to_json_not_implemented',\n",
       " 'tool_call_schema',\n",
       " 'transform',\n",
       " 'update_forward_refs',\n",
       " 'validate',\n",
       " 'verbose',\n",
       " 'with_alisteners',\n",
       " 'with_config',\n",
       " 'with_fallbacks',\n",
       " 'with_listeners',\n",
       " 'with_retry',\n",
       " 'with_types']"
      ]
     },
     "execution_count": 7,
     "metadata": {},
     "output_type": "execute_result"
    }
   ],
   "source": [
    "dir(tool)"
   ]
  },
  {
   "cell_type": "code",
   "execution_count": 8,
   "metadata": {},
   "outputs": [],
   "source": [
    "tool = TavilySearchResults(\n",
    "    max_results=5,\n",
    "    include_answer=True,\n",
    "    #include_raw_content=True,\n",
    "    #include_images=True,\n",
    "    # search_depth=\"advanced\",\n",
    "    include_domains = ['https://www.espn.com']\n",
    "    # exclude_domains = []\n",
    ")\n",
    "tool_output = tool.invoke({'query': 'who won the last french open'})"
   ]
  },
  {
   "cell_type": "code",
   "execution_count": 11,
   "metadata": {},
   "outputs": [
    {
     "data": {
      "text/plain": [
       "[{'url': 'https://www.espn.com/tennis/story/_/id/37836655/novak-djokovic-wins-french-open-record-23rd-grand-slam-men-title',\n",
       "  'content': \"Novak Djokovic won his men's record 23rd Grand Slam title Sunday with a 7-6 (1), 6-3, 7-5 victory over Casper Ruud in the French Open final.\"},\n",
       " {'url': 'https://www.espn.com/tennis/story/_/id/40313210/carlos-alcaraz-outlasts-alexander-zverev-win-french-open',\n",
       "  'content': 'PARIS -- Carlos Alcaraz became the youngest man to win Grand Slam titles on all three surfaces after defeating Alexander Zverev in five sets to capture the French Open on Sunday. The two battled'},\n",
       " {'url': 'https://www.espn.com/tennis/story/_/id/31625383/novak-djokovic-rallies-two-sets-win-french-open-19th-grand-slam-title',\n",
       "  'content': 'This was the first major final for Tsitsipas and the 29th for Djokovic, who also won the French Open in 2016, to go with nine titles at the Australian Open, five at Wimbledon and three at the US Open.'},\n",
       " {'url': 'https://www.espn.com/tennis/story/_/id/37826198/novak-djokovic-beats-carlos-alcaraz-reaches-french-open-final',\n",
       "  'content': 'Novak Djokovic beat cramping top seed Carlos Alcaraz in the French Open semifinals and will vie for a record 23rd Grand Slam title vs. Casper Ruud.'},\n",
       " {'url': 'https://www.espn.com/tennis/story/_/id/40257783/novak-djokovic-rallies-latest-win-french-open-history',\n",
       "  'content': 'Zverev, who won the Italian Open last month, has reached the semifinals at the past three French Opens and avoided his earliest exit at Roland Garros since losing in the first round in 2017.'}]"
      ]
     },
     "execution_count": 11,
     "metadata": {},
     "output_type": "execute_result"
    }
   ],
   "source": [
    "tool_output"
   ]
  },
  {
   "cell_type": "code",
   "execution_count": 12,
   "metadata": {},
   "outputs": [
    {
     "data": {
      "text/plain": [
       "list"
      ]
     },
     "execution_count": 12,
     "metadata": {},
     "output_type": "execute_result"
    }
   ],
   "source": [
    "type(tool_output)"
   ]
  },
  {
   "cell_type": "code",
   "execution_count": 10,
   "metadata": {},
   "outputs": [
    {
     "data": {
      "text/plain": [
       "['__add__',\n",
       " '__class__',\n",
       " '__class_getitem__',\n",
       " '__contains__',\n",
       " '__delattr__',\n",
       " '__delitem__',\n",
       " '__dir__',\n",
       " '__doc__',\n",
       " '__eq__',\n",
       " '__format__',\n",
       " '__ge__',\n",
       " '__getattribute__',\n",
       " '__getitem__',\n",
       " '__gt__',\n",
       " '__hash__',\n",
       " '__iadd__',\n",
       " '__imul__',\n",
       " '__init__',\n",
       " '__init_subclass__',\n",
       " '__iter__',\n",
       " '__le__',\n",
       " '__len__',\n",
       " '__lt__',\n",
       " '__mul__',\n",
       " '__ne__',\n",
       " '__new__',\n",
       " '__reduce__',\n",
       " '__reduce_ex__',\n",
       " '__repr__',\n",
       " '__reversed__',\n",
       " '__rmul__',\n",
       " '__setattr__',\n",
       " '__setitem__',\n",
       " '__sizeof__',\n",
       " '__str__',\n",
       " '__subclasshook__',\n",
       " 'append',\n",
       " 'clear',\n",
       " 'copy',\n",
       " 'count',\n",
       " 'extend',\n",
       " 'index',\n",
       " 'insert',\n",
       " 'pop',\n",
       " 'remove',\n",
       " 'reverse',\n",
       " 'sort']"
      ]
     },
     "execution_count": 10,
     "metadata": {},
     "output_type": "execute_result"
    }
   ],
   "source": [
    "dir(tool_output)"
   ]
  },
  {
   "cell_type": "code",
   "execution_count": 13,
   "metadata": {},
   "outputs": [
    {
     "data": {
      "text/plain": [
       "{'url': 'https://www.espn.com/tennis/story/_/id/37836655/novak-djokovic-wins-french-open-record-23rd-grand-slam-men-title',\n",
       " 'content': \"Novak Djokovic won his men's record 23rd Grand Slam title Sunday with a 7-6 (1), 6-3, 7-5 victory over Casper Ruud in the French Open final.\"}"
      ]
     },
     "execution_count": 13,
     "metadata": {},
     "output_type": "execute_result"
    }
   ],
   "source": [
    "tool_output[0]"
   ]
  },
  {
   "cell_type": "code",
   "execution_count": 14,
   "metadata": {},
   "outputs": [
    {
     "data": {
      "text/plain": [
       "[{'url': 'https://www.espn.com/tennis/story/_/id/40269330/french-open-winners-mens-womens-singles-champions',\n",
       "  'content': \"Rafael Nadal has dominated the French Open since winning his first title at Roland Garros in 2005. Of the Spaniard's 22 career Grand Slam championships,14 have come on the French Open's clay\"},\n",
       " {'url': 'https://www.espn.com/tennis/story/_/id/37836655/novak-djokovic-wins-french-open-record-23rd-grand-slam-men-title',\n",
       "  'content': \"Novak Djokovic won his men's record 23rd Grand Slam title Sunday with a 7-6 (1), 6-3, 7-5 victory over Casper Ruud in the French Open final.\"},\n",
       " {'url': 'https://www.espn.com/tennis/story/_/id/31613798/novak-djokovic-tops-rafael-nadal-reach-french-open-final',\n",
       "  'content': 'Nadal, a 14-time winner of the French Open who turned 35 last week, fell to 105-3 in his career at Roland Garros. His first defeat came against Robin Soderling in 2009; the next against Djokovic'},\n",
       " {'url': 'https://www.espn.com/tennis/story/_/id/40257783/novak-djokovic-rallies-latest-win-french-open-history',\n",
       "  'content': 'Zverev, who won the Italian Open last month, has reached the semifinals at the past three French Opens and avoided his earliest exit at Roland Garros since losing in the first round in 2017.'},\n",
       " {'url': 'https://www.espn.com/tennis/story/_/id/40310466/2024-french-open-mens-final-latest-updates-carlos-alcaraz-alexander-zverev',\n",
       "  'content': \"Alexander Zverev has taken the lead against Carlos Alcaraz in the 2024 French Open men's singles final. Daniel Kopatsch/Getty Images. Alexander Zverev wins third set 7-5 to take 2-1 lead. If golf\"}]"
      ]
     },
     "execution_count": 14,
     "metadata": {},
     "output_type": "execute_result"
    }
   ],
   "source": [
    "tool = TavilySearchResults(\n",
    "    max_results=5,\n",
    "    #include_answer=True,\n",
    "    include_raw_content=True,\n",
    "    #include_images=True,\n",
    "    # search_depth=\"advanced\",\n",
    "    include_domains = ['https://www.espn.com']\n",
    "    # exclude_domains = []\n",
    ")\n",
    "tool.invoke({'query': 'who won the last french open'})"
   ]
  },
  {
   "cell_type": "code",
   "execution_count": null,
   "metadata": {},
   "outputs": [],
   "source": []
  },
  {
   "cell_type": "markdown",
   "metadata": {},
   "source": [
    "### Test the research on federal EV credits"
   ]
  },
  {
   "cell_type": "code",
   "execution_count": 15,
   "metadata": {},
   "outputs": [
    {
     "data": {
      "text/plain": [
       "[{'url': 'https://www.cnn.com/2023/04/17/cars/ev-tax-credits-2023-which-cars-climate/index.html',\n",
       "  'content': 'Which models are eligible for the new EV tax credit? 2022-2023 Chrysler Pacifica PHEV. 2022-2023 Jeep Wrangler PHEV 4xe. 2022-2023 Jeep Grand Cherokee PHEV 4xe. 2022-2023 Ford F-150 Lightning'},\n",
       " {'url': 'https://www.usatoday.com/story/money/cars/2024/01/03/cars-qualify-ev-tax-credit-2024/72088375007/',\n",
       "  'content': 'Cost and charging still play a part\\nWhich cars qualify for a partial, $3,750 tax credit in 2024?\\nWhich EVs no longer qualify for the tax credit?\\nSome of the models that no longer qualify for the partial or full tax credit in the new year include other versions of the Tesla Model 3, the Volkswagen ID.4, the Nissan Leaf, the Ford Mustang Mach-E, and Chevrolet\\'s Blazer, Equinox and Silverado.\\n While it\\'s easier than ever to access that discount now that customers no longer have to fill out tax paperwork to claim the credit, shoppers will find fewer cars that qualify in the wake of the Biden Administration\\'s new rules on battery components and minerals.\\n How do electric cars qualify for tax credits?\\nEligible cars must be assembled in North America and cannot contain battery components manufactured or assembled by \"foreign entities of concern,” including China.\\n See below for the full list, including all the model variations and their MSRP limits to qualify.\\n What cars qualify for the $7,500 tax credit in 2024?\\n'},\n",
       " {'url': 'https://www.irs.gov/credits-deductions/manufacturers-and-models-for-new-qualified-clean-vehicles-purchased-in-2022-and-before',\n",
       "  'content': 'If you bought a new, qualified plug-in electric vehicle (EV) between 2010 and 2022, you may be eligible for a new electric vehicle tax credit up to $7,500 under Internal Revenue Code Section 30D.. Manufacturers of the vehicles listed below have provided appropriate information and have received our acknowledgement that the vehicles are eligible for the credit and the amount of the qualifying'},\n",
       " {'url': 'https://www.caranddriver.com/news/g43675128/cars-eligible-for-ev-tax-credit/',\n",
       "  'content': \"We've done the due diligence of gathering each EV that's currently eligible to earn either the partial $3750 credit or the full $7500 credit and listed them below. While plug-in-hybrid models are\"},\n",
       " {'url': 'https://www.consumerreports.org/cars/hybrids-evs/electric-cars-plug-in-hybrids-that-qualify-for-tax-credits-a7820795671/',\n",
       "  'content': 'Which Car Brands Make the Best Vehicles?\\nCar Maintenance & Repair\\nThe Cost of Car Ownership Over Time\\nKey Topics & News\\nCAR NEWS\\nListen to the Talking Cars Podcast\\nHome & Garden\\nBed & Bath\\nTop Picks From CR\\nBest Mattresses\\nLawn & Garden\\nTOP PICKS FROM CR\\nBest Snow Blowers\\nHome Improvement\\nHome Improvement Essential\\nBest Wood Stains\\nHome Safety & Security\\nHOME SAFETY\\nBest DIY Home Security Systems\\nAppliances\\nKitchen\\nREPAIR OR REPLACE?\\nWhat to Do With a Broken Appliance\\nSmall Appliances\\nTOP PICKS FROM CR\\nBest Small Kitchen Appliances\\nLaundry & Cleaning\\nTop Picks From CR\\nBest Washing Machines\\nHeating, Cooling & Air\\nTOP PICKS FROM CR\\nBest Air Purifiers\\nElectronics\\nHome Entertainment\\nFIND YOUR NEW TV\\nBest TVs\\nHome Office\\nSave Money\\nCheapest Printers for Ink Costs\\nSmartphones & Wearables\\nBEST SMARTPHONES\\nFind the Right Phone for You\\nDigital Security & Privacy\\nMEMBER BENEFIT\\nCR Security Planner\\nMore\\nTake Action\\nElectric Cars and Plug-In Hybrids That Qualify for Federal Tax Credits\\nHere’s how to find out which new and used EVs may qualify for a tax credit of up to $7,500 in 2023 and 2024\\n The Treasury Department says the manufacturers of the following EVs and PHEVs indicated that they’re currently eligible for a partial tax credit of $3,750 if put into service on or after April 18, 2023, and before Dec. 31, 2023, provided other requirements are met, such as vehicle MSRP and buyer income:\\nWhich Cars No Longer Qualify for the EV Tax Credit?\\n Here’s how it works: In the case of a lease, the dealer would receive the commercial credit, not the person leasing the vehicle, and it would be up to the dealer to pass those savings on to the consumer, potentially by lowering the vehicle’s purchase price. The IRS says the manufacturers of the following EVs and PHEVs indicated that they’re currently eligible for a full tax credit of $7,500 provided other requirements are met, such as vehicle MSRP and buyer income, which are explained in detail later in this article:\\nMany of these vehicles may also qualify for state and local incentives. Although directives about battery and mineral sourcing are meant to provide an incentive for manufacturing in the U.S., automakers and EV advocates have told Consumer Reports they’re concerned that the complexity of these rules may make it difficult for consumers to find a vehicle that qualifies for the credits or understand how much they’ll be eligible to claim.\\n'}]"
      ]
     },
     "execution_count": 15,
     "metadata": {},
     "output_type": "execute_result"
    }
   ],
   "source": [
    "tool = TavilySearchResults(\n",
    "    max_results=5,\n",
    "    #include_answer=True,\n",
    "    #include_raw_content=True,\n",
    "    #include_images=True,\n",
    "    # search_depth=\"advanced\",\n",
    "    #include_domains = []\n",
    "    # exclude_domains = []\n",
    ")\n",
    "tool.invoke({'query': 'which vehicles are eligible for federal electric vehicle tax credits'})"
   ]
  },
  {
   "cell_type": "code",
   "execution_count": null,
   "metadata": {},
   "outputs": [],
   "source": [
    "tool = TavilySearchResults(\n",
    "    max_results=5,\n",
    "    #include_answer=True,\n",
    "    #include_raw_content=True,\n",
    "    #include_images=True,\n",
    "    # search_depth=\"advanced\",\n",
    "    include_domains = ['http:']\n",
    "    # exclude_domains = []\n",
    ")\n",
    "tool.invoke({'query': 'which vehicles are eligible for federal electric vehicle tax credits'})"
   ]
  }
 ],
 "metadata": {
  "kernelspec": {
   "display_name": "sep2024",
   "language": "python",
   "name": "python3"
  },
  "language_info": {
   "codemirror_mode": {
    "name": "ipython",
    "version": 3
   },
   "file_extension": ".py",
   "mimetype": "text/x-python",
   "name": "python",
   "nbconvert_exporter": "python",
   "pygments_lexer": "ipython3",
   "version": "3.9.9"
  }
 },
 "nbformat": 4,
 "nbformat_minor": 2
}
